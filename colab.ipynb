{
  "cells": [
    {
      "cell_type": "markdown",
      "metadata": {
        "id": "Y9KS8woQQ6OF"
      },
      "source": [
        "**Building a CNN for the Emotional Facial Recognization**"
      ]
    },
    {
      "cell_type": "markdown",
      "metadata": {
        "id": "w7n7OK_o1Xy-"
      },
      "source": [
        "Upload the dataset"
      ]
    },
    {
      "cell_type": "code",
      "execution_count": null,
      "metadata": {
        "colab": {
          "base_uri": "https://localhost:8080/"
        },
        "id": "iQVGXxkuVYNn",
        "outputId": "5d50b358-2e40-42e1-9246-8122fed3b11b"
      },
      "outputs": [
        {
          "output_type": "stream",
          "name": "stdout",
          "text": [
            "Done\n"
          ]
        }
      ],
      "source": [
        "! chmod 600 kaggle.json && (ls ~/.kaggle 2>/dev/null || mkdir ~/.kaggle) && mv kaggle.json ~/.kaggle/ && echo 'Done'"
      ]
    },
    {
      "cell_type": "code",
      "execution_count": null,
      "metadata": {
        "colab": {
          "base_uri": "https://localhost:8080/"
        },
        "id": "Fb4ZFYkcV8n6",
        "outputId": "ecc21cd5-aef7-4095-dc8c-7cf417318242"
      },
      "outputs": [
        {
          "output_type": "stream",
          "name": "stdout",
          "text": [
            "Downloading face-expression-recognition-dataset.zip to /content\n",
            " 95% 115M/121M [00:01<00:00, 129MB/s] \n",
            "100% 121M/121M [00:01<00:00, 107MB/s]\n",
            "face-expression-recognition-dataset.zip  sample_data\n"
          ]
        }
      ],
      "source": [
        "!kaggle datasets download jonathanoheix/face-expression-recognition-dataset\n",
        "!ls"
      ]
    },
    {
      "cell_type": "code",
      "execution_count": null,
      "metadata": {
        "id": "DXXBt636WJ89"
      },
      "outputs": [],
      "source": [
        "!unzip -o face-expression-recognition-dataset.zip\n",
        "!ls"
      ]
    },
    {
      "cell_type": "markdown",
      "metadata": {
        "id": "HgI77PC-Oitb"
      },
      "source": [
        "# Convolutional Neural Networks- Emotion Facial Recognition"
      ]
    },
    {
      "cell_type": "markdown",
      "metadata": {
        "id": "OVBjFuodYMAC"
      },
      "source": [
        "Convolutional Neural Networks (CNNs) are deep neural networks with the addition of two very special types of layers: convolutional layers and pooling layers. "
      ]
    },
    {
      "cell_type": "markdown",
      "metadata": {
        "id": "9WvUPMIVOzjJ"
      },
      "source": [
        "Import neccessary Libraries, Check Version of Tensorflow"
      ]
    },
    {
      "cell_type": "code",
      "execution_count": null,
      "metadata": {
        "colab": {
          "base_uri": "https://localhost:8080/"
        },
        "id": "U1a6PdGGuXSe",
        "outputId": "f44ff113-15f8-4929-c9b5-38c4a03eb4ba"
      },
      "outputs": [
        {
          "output_type": "stream",
          "name": "stdout",
          "text": [
            "2.8.2\n"
          ]
        }
      ],
      "source": [
        "import tensorflow as tf\n",
        "from tensorflow import keras\n",
        "from tensorflow.keras import layers\n",
        "import numpy as np\n",
        "import matplotlib.pyplot as plt\n",
        "from tensorflow.keras.optimizers import Adam,SGD,RMSprop\n",
        "\n",
        "print(tf.__version__)"
      ]
    },
    {
      "cell_type": "markdown",
      "metadata": {
        "id": "w1blT-02PEoW"
      },
      "source": [
        "Use OS library to Unzip and Display the Two tests sets in the data."
      ]
    },
    {
      "cell_type": "code",
      "execution_count": null,
      "metadata": {
        "colab": {
          "base_uri": "https://localhost:8080/"
        },
        "id": "sNGKmsVz6oFw",
        "outputId": "a9124232-b0ad-4b44-918b-499f7b97b77a"
      },
      "outputs": [
        {
          "output_type": "execute_result",
          "data": {
            "text/plain": [
              "['train', 'validation']"
            ]
          },
          "metadata": {},
          "execution_count": 10
        }
      ],
      "source": [
        "import os\n",
        "import zipfile\n",
        "\n",
        "zipfile.ZipFile('face-expression-recognition-dataset.zip').extractall()\n",
        "os.listdir('./images/images/')"
      ]
    },
    {
      "cell_type": "markdown",
      "metadata": {
        "id": "O9Qi5vyTPVws"
      },
      "source": [
        "Assign and Set the Train and Validation to Variables, print out the 7 emotions within the data. "
      ]
    },
    {
      "cell_type": "code",
      "execution_count": null,
      "metadata": {
        "colab": {
          "base_uri": "https://localhost:8080/"
        },
        "id": "Xrf5KYZl-2Hs",
        "outputId": "eaec174a-d086-42ef-a4ec-caad06d6f594"
      },
      "outputs": [
        {
          "output_type": "stream",
          "name": "stdout",
          "text": [
            "['angry', 'disgust', 'fear', 'happy', 'neutral', 'sad', 'surprise']\n",
            "7\n"
          ]
        }
      ],
      "source": [
        "#Checking the details of the train and test data\n",
        "\n",
        "train_dir = './images/images/train/'\n",
        "train_categories = set(os.listdir(train_dir))\n",
        "validation_dir = './images/images/validation/'\n",
        "test_categories = set(os.listdir(validation_dir))\n",
        "\n",
        "if train_categories.symmetric_difference(test_categories):\n",
        "  print(\"Warning!: \", train_categories.symmetric_difference(test_categories))\n",
        "\n",
        "print(sorted(train_categories))\n",
        "print(len(train_categories))"
      ]
    },
    {
      "cell_type": "markdown",
      "metadata": {
        "id": "J5MTEiAwPlw1"
      },
      "source": [
        "Exploratory Data Anaylsis - Display every emotion. "
      ]
    },
    {
      "cell_type": "code",
      "execution_count": null,
      "metadata": {
        "colab": {
          "base_uri": "https://localhost:8080/",
          "height": 282
        },
        "id": "ftTObT74Yy5b",
        "outputId": "a7a8a1fa-d7f5-430a-deb5-35c8daefe60e"
      },
      "outputs": [
        {
          "output_type": "execute_result",
          "data": {
            "text/plain": [
              "<matplotlib.image.AxesImage at 0x7f70226cb490>"
            ]
          },
          "metadata": {},
          "execution_count": 12
        },
        {
          "output_type": "display_data",
          "data": {
            "text/plain": [
              "<Figure size 432x288 with 1 Axes>"
            ],
            "image/png": "[encoded data removed]"
          },
          "metadata": {
            "needs_background": "light"
          }
        }
      ],
      "source": [
        "import cv2 as cv\n",
        "import matplotlib.pyplot as plt\n",
        "\n",
        "sample_dir = os.path.join(train_dir, 'angry')\n",
        "img = cv.imread(os.path.join(sample_dir, os.listdir(sample_dir)[0]))\n",
        "plt.imshow(img)"
      ]
    },
    {
      "cell_type": "code",
      "execution_count": null,
      "metadata": {
        "colab": {
          "base_uri": "https://localhost:8080/",
          "height": 282
        },
        "id": "YceX3ZgTZISc",
        "outputId": "8b5b2521-214d-4ea9-928f-f7f8a198fce0"
      },
      "outputs": [
        {
          "output_type": "execute_result",
          "data": {
            "text/plain": [
              "<matplotlib.image.AxesImage at 0x7f7023db97d0>"
            ]
          },
          "metadata": {},
          "execution_count": 13
        },
        {
          "output_type": "display_data",
          "data": {
            "text/plain": [
              "<Figure size 432x288 with 1 Axes>"
            ],
            "image/png": "[encoded data removed]"
          },
          "metadata": {
            "needs_background": "light"
          }
        }
      ],
      "source": [
        "sample_dir = os.path.join(train_dir, 'disgust')\n",
        "img = cv.imread(os.path.join(sample_dir, os.listdir(sample_dir)[0]))\n",
        "plt.imshow(img)"
      ]
    },
    {
      "cell_type": "code",
      "execution_count": null,
      "metadata": {
        "colab": {
          "base_uri": "https://localhost:8080/",
          "height": 265
        },
        "id": "0cZ5EBJeZTBE",
        "outputId": "b6ad46e5-08f2-4ed8-9e2b-fc874a4dcfb2"
      },
      "outputs": [
        {
          "output_type": "display_data",
          "data": {
            "text/plain": [
              "<Figure size 432x288 with 1 Axes>"
            ],
            "image/png": "[encoded data removed]"
          },
          "metadata": {
            "needs_background": "light"
          }
        }
      ],
      "source": [
        "sample_dir = os.path.join(train_dir, 'fear')\n",
        "img = cv.imread(os.path.join(sample_dir, os.listdir(sample_dir)[0]))\n",
        "_ = plt.imshow(img)"
      ]
    },
    {
      "cell_type": "code",
      "execution_count": null,
      "metadata": {
        "colab": {
          "base_uri": "https://localhost:8080/",
          "height": 265
        },
        "id": "F2x8PuldZXId",
        "outputId": "3eb5c0fa-1683-4175-e8e2-2baa1c535885"
      },
      "outputs": [
        {
          "output_type": "display_data",
          "data": {
            "text/plain": [
              "<Figure size 432x288 with 1 Axes>"
            ],
            "image/png": "[encoded data removed]"
          },
          "metadata": {
            "needs_background": "light"
          }
        }
      ],
      "source": [
        "sample_dir = os.path.join(train_dir, 'happy')\n",
        "img = cv.imread(os.path.join(sample_dir, os.listdir(sample_dir)[0]))\n",
        "_ = plt.imshow(img)"
      ]
    },
    {
      "cell_type": "code",
      "execution_count": null,
      "metadata": {
        "colab": {
          "base_uri": "https://localhost:8080/",
          "height": 265
        },
        "id": "gQmJFGt8ZcRX",
        "outputId": "08b90986-08f8-477b-c205-617213669b0e"
      },
      "outputs": [
        {
          "output_type": "display_data",
          "data": {
            "text/plain": [
              "<Figure size 432x288 with 1 Axes>"
            ],
            "image/png": "[encoded data removed]"
          },
          "metadata": {
            "needs_background": "light"
          }
        }
      ],
      "source": [
        "sample_dir = os.path.join(train_dir, 'neutral')\n",
        "img = cv.imread(os.path.join(sample_dir, os.listdir(sample_dir)[0]))\n",
        "_ = plt.imshow(img)"
      ]
    },
    {
      "cell_type": "code",
      "execution_count": null,
      "metadata": {
        "colab": {
          "base_uri": "https://localhost:8080/",
          "height": 265
        },
        "id": "oZ_fz3GYZf2P",
        "outputId": "9adbeba8-4365-47b1-b05c-44c7ed7f12f6"
      },
      "outputs": [
        {
          "output_type": "display_data",
          "data": {
            "text/plain": [
              "<Figure size 432x288 with 1 Axes>"
            ],
            "image/png": "[encoded data removed]"
          },
          "metadata": {
            "needs_background": "light"
          }
        }
      ],
      "source": [
        "sample_dir = os.path.join(train_dir, 'surprise')\n",
        "img = cv.imread(os.path.join(sample_dir, os.listdir(sample_dir)[0]))\n",
        "_ = plt.imshow(img)"
      ]
    },
    {
      "cell_type": "markdown",
      "metadata": {
        "id": "gPPU4BCsPxoi"
      },
      "source": [
        "Using img to show the color encoding range:"
      ]
    },
    {
      "cell_type": "code",
      "execution_count": null,
      "metadata": {
        "colab": {
          "base_uri": "https://localhost:8080/"
        },
        "id": "1fOwwRDbaNO5",
        "outputId": "8b47780a-16e3-4d2b-fa64-92ad88707922"
      },
      "outputs": [
        {
          "output_type": "execute_result",
          "data": {
            "text/plain": [
              "(16, 255)"
            ]
          },
          "metadata": {},
          "execution_count": 18
        }
      ],
      "source": [
        "img.min(), img.max()"
      ]
    },
    {
      "cell_type": "markdown",
      "metadata": {
        "id": "HhMYRZpzP2Rs"
      },
      "source": [
        "Using the TensorFlow Keras it has a class called DirectoryIterator that can help with getting the images in the model."
      ]
    },
    {
      "cell_type": "code",
      "execution_count": null,
      "metadata": {
        "colab": {
          "base_uri": "https://localhost:8080/"
        },
        "id": "XyCFlg5ia--v",
        "outputId": "0b53ae10-8550-4118-bc85-7f7a64dde34e"
      },
      "outputs": [
        {
          "output_type": "stream",
          "name": "stdout",
          "text": [
            "Found 28821 images belonging to 7 classes.\n"
          ]
        }
      ],
      "source": [
        "import tensorflow as tf\n",
        "\n",
        "train_dir = './images/images/train/'\n",
        "\n",
        "train_image_iterator = tf.keras.preprocessing.image.DirectoryIterator(\n",
        "    target_size=(100, 100),\n",
        "    directory=train_dir,\n",
        "    batch_size=128,\n",
        "    image_data_generator=None)"
      ]
    },
    {
      "cell_type": "markdown",
      "metadata": {
        "id": "YvFb--WnQFgm"
      },
      "source": [
        "Validate the images "
      ]
    },
    {
      "cell_type": "code",
      "execution_count": null,
      "metadata": {
        "colab": {
          "base_uri": "https://localhost:8080/"
        },
        "id": "Ou2j_tgc1gwX",
        "outputId": "58abdb86-b08d-4de4-dfac-5f9674f9dd9a"
      },
      "outputs": [
        {
          "output_type": "stream",
          "name": "stdout",
          "text": [
            "./images/images/train/angry/0.jpg\n",
            "./images/images/train/disgust/10018.jpg\n",
            "./images/images/train/fear/10010.jpg\n",
            "./images/images/train/happy/100.jpg\n",
            "./images/images/train/neutral/1000.jpg\n",
            "./images/images/train/sad/10006.jpg\n",
            "./images/images/train/surprise/10007.jpg\n"
          ]
        }
      ],
      "source": [
        "print(train_image_iterator.filepaths[np.where(train_image_iterator.labels == 0)[0][0]])\n",
        "print(train_image_iterator.filepaths[np.where(train_image_iterator.labels == 1)[0][0]])\n",
        "print(train_image_iterator.filepaths[np.where(train_image_iterator.labels == 2)[0][0]])\n",
        "print(train_image_iterator.filepaths[np.where(train_image_iterator.labels == 3)[0][0]])\n",
        "print(train_image_iterator.filepaths[np.where(train_image_iterator.labels == 4)[0][0]])\n",
        "print(train_image_iterator.filepaths[np.where(train_image_iterator.labels == 5)[0][0]])\n",
        "print(train_image_iterator.filepaths[np.where(train_image_iterator.labels == 6)[0][0]])"
      ]
    },
    {
      "cell_type": "markdown",
      "metadata": {
        "id": "uMgAGQq2ROqC"
      },
      "source": [
        "We input our images into a convolutional layer followed by a pooling layer. After stacking a few convolutional layers and pooling layers, we flatten the final pooling output and finish with some traditional dense layers. The final dense layer is 7 nodes wide and is activated by softmax. This layer represents our classification predictions."
      ]
    },
    {
      "cell_type": "code",
      "execution_count": null,
      "metadata": {
        "colab": {
          "base_uri": "https://localhost:8080/",
          "height": 132
        },
        "id": "ELJB7M3q477f",
        "outputId": "22c49043-3a3c-42bd-995c-18074fd9a2cf"
      },
      "outputs": [
        {
          "output_type": "execute_result",
          "data": {
            "text/plain": [
              "'\\nmodel = tf.keras.Sequential([\\n    tf.keras.layers.Conv2D(16, 3, padding=\\'same\\', activation=\\'relu\\',\\n                           input_shape=(100, 100, 1)),\\n    tf.keras.layers.MaxPooling2D(),\\n    tf.keras.layers.Conv2D(32, 3, padding=\\'same\\', activation=\\'relu\\'),\\n    tf.keras.layers.MaxPooling2D(),\\n    tf.keras.layers.Conv2D(64, 3, padding=\\'same\\', activation=\\'relu\\'),\\n    tf.keras.layers.MaxPooling2D(),\\n    tf.keras.layers.Flatten(),\\n    tf.keras.layers.Dense(512, activation=\\'relu\\'),\\n    tf.keras.layers.Dense(7, activation=\\'softmax\\')\\n])\\n\\n\\n\\nmodel.compile(optimizer=\"Adam\",\\n              loss=\\'categorical_crossentropy\\',\\n              metrics=[\\'accuracy\\'])\\n\\nmodel.summary()\\n'"
            ],
            "application/vnd.google.colaboratory.intrinsic+json": {
              "type": "string"
            }
          },
          "metadata": {},
          "execution_count": 21
        }
      ],
      "source": [
        "#MODEL 1\n",
        "#preset CNN model \n",
        "#accuracy : 0.3589\n",
        "#epochs : 10 \n",
        "\"\"\"\n",
        "model = tf.keras.Sequential([\n",
        "    tf.keras.layers.Conv2D(16, 3, padding='same', activation='relu',\n",
        "                           input_shape=(100, 100, 1)),\n",
        "    tf.keras.layers.MaxPooling2D(),\n",
        "    tf.keras.layers.Conv2D(32, 3, padding='same', activation='relu'),\n",
        "    tf.keras.layers.MaxPooling2D(),\n",
        "    tf.keras.layers.Conv2D(64, 3, padding='same', activation='relu'),\n",
        "    tf.keras.layers.MaxPooling2D(),\n",
        "    tf.keras.layers.Flatten(),\n",
        "    tf.keras.layers.Dense(512, activation='relu'),\n",
        "    tf.keras.layers.Dense(7, activation='softmax')\n",
        "])\n",
        "\n",
        "\n",
        "\n",
        "model.compile(optimizer=\"Adam\",\n",
        "              loss='categorical_crossentropy',\n",
        "              metrics=['accuracy'])\n",
        "\n",
        "model.summary()\n",
        "\"\"\""
      ]
    },
    {
      "cell_type": "code",
      "execution_count": null,
      "metadata": {
        "colab": {
          "base_uri": "https://localhost:8080/",
          "height": 132
        },
        "id": "HU9OIOL1CSw7",
        "outputId": "bf58f5cf-9b3a-46ea-f129-62521723465a"
      },
      "outputs": [
        {
          "output_type": "execute_result",
          "data": {
            "text/plain": [
              "'\\nmodel = tf.keras.Sequential([\\n    tf.keras.layers.Conv2D(32, 3, activation=\\'relu\\',\\n                           input_shape=(100, 100, 1)),\\n    tf.keras.layers.MaxPooling2D((2,2)),\\n    tf.keras.layers.Conv2D(32, 3, padding=\\'same\\', activation=\\'relu\\'),\\n    tf.keras.layers.MaxPooling2D(),\\n    tf.keras.layers.Conv2D(64, 3, padding=\\'same\\', activation=\\'relu\\'),\\n    tf.keras.layers.MaxPooling2D((2,2)),\\n    tf.keras.layers.Flatten(),\\n    tf.keras.layers.Dense(64, activation=\\'relu\\'),\\n    tf.keras.layers.Dense(7, activation=\\'softmax\\')\\n])\\n\\n\\nmodel.compile(optimizer=\"Adam\",\\n              loss=\\'categorical_crossentropy\\',\\n              metrics=[\\'accuracy\\'])\\n\\nmodel.summary()\\n'"
            ],
            "application/vnd.google.colaboratory.intrinsic+json": {
              "type": "string"
            }
          },
          "metadata": {},
          "execution_count": 22
        }
      ],
      "source": [
        "#MODEL 2\n",
        "#added a 2,2 to Max Pooling 2D layer \n",
        "#accuracy : .37\n",
        "#epochs : 10 \n",
        "\"\"\"\n",
        "model = tf.keras.Sequential([\n",
        "    tf.keras.layers.Conv2D(32, 3, activation='relu',\n",
        "                           input_shape=(100, 100, 1)),\n",
        "    tf.keras.layers.MaxPooling2D((2,2)),\n",
        "    tf.keras.layers.Conv2D(32, 3, padding='same', activation='relu'),\n",
        "    tf.keras.layers.MaxPooling2D(),\n",
        "    tf.keras.layers.Conv2D(64, 3, padding='same', activation='relu'),\n",
        "    tf.keras.layers.MaxPooling2D((2,2)),\n",
        "    tf.keras.layers.Flatten(),\n",
        "    tf.keras.layers.Dense(64, activation='relu'),\n",
        "    tf.keras.layers.Dense(7, activation='softmax')\n",
        "])\n",
        "\n",
        "\n",
        "model.compile(optimizer=\"Adam\",\n",
        "              loss='categorical_crossentropy',\n",
        "              metrics=['accuracy'])\n",
        "\n",
        "model.summary()\n",
        "\"\"\"\n"
      ]
    },
    {
      "cell_type": "code",
      "execution_count": null,
      "metadata": {
        "colab": {
          "base_uri": "https://localhost:8080/",
          "height": 132
        },
        "id": "DzuM8L4rCeoH",
        "outputId": "0463d889-1e4f-4f9c-a51c-4c2c5df3f536"
      },
      "outputs": [
        {
          "output_type": "execute_result",
          "data": {
            "text/plain": [
              "'\\nmodel = tf.keras.Sequential([\\n    tf.keras.layers.Conv2D(16, 3, activation=\\'tanh\\',\\n                           input_shape=(100, 100, 1)),\\n    tf.keras.layers.MaxPooling2D((2,2)),\\n    tf.keras.layers.Conv2D(32, 3, padding=\\'same\\', activation=\\'tanh\\'),\\n    tf.keras.layers.MaxPooling2D(),\\n    tf.keras.layers.Conv2D(64, 3, padding=\\'same\\', activation=\\'tanh\\'),\\n    tf.keras.layers.MaxPooling2D((2,2)),\\n    tf.keras.layers.Flatten(),\\n    tf.keras.layers.Dense(512, activation=\\'tanh\\'),\\n    tf.keras.layers.Dense(7, activation=\\'softmax\\')\\n])\\n\\n\\nmodel.compile(optimizer=\"Adam\",\\n              loss=\\'categorical_crossentropy\\',\\n              metrics=[\\'accuracy\\'])\\n\\nmodel.summary()\\n'"
            ],
            "application/vnd.google.colaboratory.intrinsic+json": {
              "type": "string"
            }
          },
          "metadata": {},
          "execution_count": 23
        }
      ],
      "source": [
        "#MODEL 3\n",
        "#changed the activation function to tanh to train the data closer to zero in hopes to improve the accuracy. \n",
        "#accuracy: 0.2089\n",
        "#epochs :10 \n",
        "\"\"\"\n",
        "model = tf.keras.Sequential([\n",
        "    tf.keras.layers.Conv2D(16, 3, activation='tanh',\n",
        "                           input_shape=(100, 100, 1)),\n",
        "    tf.keras.layers.MaxPooling2D((2,2)),\n",
        "    tf.keras.layers.Conv2D(32, 3, padding='same', activation='tanh'),\n",
        "    tf.keras.layers.MaxPooling2D(),\n",
        "    tf.keras.layers.Conv2D(64, 3, padding='same', activation='tanh'),\n",
        "    tf.keras.layers.MaxPooling2D((2,2)),\n",
        "    tf.keras.layers.Flatten(),\n",
        "    tf.keras.layers.Dense(512, activation='tanh'),\n",
        "    tf.keras.layers.Dense(7, activation='softmax')\n",
        "])\n",
        "\n",
        "\n",
        "model.compile(optimizer=\"Adam\",\n",
        "              loss='categorical_crossentropy',\n",
        "              metrics=['accuracy'])\n",
        "\n",
        "model.summary()\n",
        "\"\"\""
      ]
    },
    {
      "cell_type": "code",
      "execution_count": null,
      "metadata": {
        "id": "_knI_UvfpGfh",
        "colab": {
          "base_uri": "https://localhost:8080/"
        },
        "outputId": "b4950cf3-5f7d-49fe-af34-d271c4912ee2"
      },
      "outputs": [
        {
          "output_type": "stream",
          "name": "stdout",
          "text": [
            "Model: \"sequential_1\"\n",
            "_________________________________________________________________\n",
            " Layer (type)                Output Shape              Param #   \n",
            "=================================================================\n",
            " conv2d_3 (Conv2D)           (None, 50, 50, 16)        160       \n",
            "                                                                 \n",
            " max_pooling2d_3 (MaxPooling  (None, 25, 25, 16)       0         \n",
            " 2D)                                                             \n",
            "                                                                 \n",
            " conv2d_4 (Conv2D)           (None, 25, 25, 32)        4640      \n",
            "                                                                 \n",
            " max_pooling2d_4 (MaxPooling  (None, 12, 12, 32)       0         \n",
            " 2D)                                                             \n",
            "                                                                 \n",
            " conv2d_5 (Conv2D)           (None, 12, 12, 64)        18496     \n",
            "                                                                 \n",
            " max_pooling2d_5 (MaxPooling  (None, 6, 6, 64)         0         \n",
            " 2D)                                                             \n",
            "                                                                 \n",
            " flatten_1 (Flatten)         (None, 2304)              0         \n",
            "                                                                 \n",
            " dense_2 (Dense)             (None, 512)               1180160   \n",
            "                                                                 \n",
            " dense_3 (Dense)             (None, 7)                 3591      \n",
            "                                                                 \n",
            "=================================================================\n",
            "Total params: 1,207,047\n",
            "Trainable params: 1,207,047\n",
            "Non-trainable params: 0\n",
            "_________________________________________________________________\n"
          ]
        }
      ],
      "source": [
        "#MODEL 4\n",
        "#loss: 0.2560 - accuracy: 0.92\n",
        "#epochs : 100\n",
        "#removed the 2D pooling layer inputs, added more epochs to increase the accuracy, wanted to get closer to 90. But this was a huge increase in accuracy. \n",
        "\n",
        " \n",
        "model = tf.keras.Sequential([\n",
        "    tf.keras.layers.Conv2D(16, 3, padding='same', activation='relu',\n",
        "                           input_shape=(50, 50, 1)),\n",
        "    tf.keras.layers.MaxPooling2D(),\n",
        "    tf.keras.layers.Conv2D(32, 3, padding='same', activation='relu'),\n",
        "    tf.keras.layers.MaxPooling2D(),\n",
        "    tf.keras.layers.Conv2D(64, 3, padding='same', activation='relu'),\n",
        "    tf.keras.layers.MaxPooling2D(),\n",
        "    tf.keras.layers.Flatten(),\n",
        "    tf.keras.layers.Dense(512, activation='relu'),\n",
        "    tf.keras.layers.Dense(7, activation='sigmoid')\n",
        "    ])\n",
        "\n",
        "model.compile(optimizer=\"Adam\",\n",
        "              loss='categorical_crossentropy',\n",
        "              metrics=['accuracy'])\n",
        "\n",
        "model.summary()\n",
        "#increased the epochs to 100 \n",
        "#accuracy: .92"
      ]
    },
    {
      "cell_type": "code",
      "execution_count": null,
      "metadata": {
        "id": "f-s19vUHm6O8"
      },
      "outputs": [],
      "source": [
        "#Model 5\n",
        "\"\"\"\n",
        "model5 = tf.keras.Sequential([\n",
        "    tf.keras.layers.Conv2D(16, (3,3), padding='same', activation='relu',\n",
        "                           input_shape=(100, 100, 1)),\n",
        "    tf.keras.layers.BatchNormalization(),                        \n",
        "    tf.keras.layers.MaxPooling2D(pool_size=(2,2)),\n",
        "    tf.keras.layers.Dropout(0.25),\n",
        "    tf.keras.layers.Conv2D(32, (5,5), padding='same', activation='relu'),\n",
        "    tf.keras.layers.BatchNormalization(),                        \n",
        "    tf.keras.layers.MaxPooling2D(pool_size=(2,2)),\n",
        "    tf.keras.layers.Dropout(0.25),\n",
        "    tf.keras.layers.Conv2D(64, (3,3), padding='same', activation='relu'),\n",
        "    tf.keras.layers.BatchNormalization(),                        \n",
        "    tf.keras.layers.MaxPooling2D(pool_size=(2,2)),\n",
        "    tf.keras.layers.Dropout(0.25),\n",
        "    tf.keras.layers.Flatten(),\n",
        "    tf.keras.layers.Dense(256, activation='relu'),\n",
        "    tf.keras.layers.BatchNormalization(),   \n",
        "    tf.keras.layers.Dropout(0.25),\n",
        "    tf.keras.layers.Dense(512, activation='relu'),\n",
        "    tf.keras.layers.BatchNormalization(),   \n",
        "    tf.keras.layers.Dropout(0.25),\n",
        "    tf.keras.layers.Dense(7, activation='softmax') #no. of classes\n",
        "    ])\n",
        "\n",
        "model.compile(optimizer=\"Adam\",\n",
        "              loss='categorical_crossentropy',\n",
        "              metrics=['accuracy'])\n",
        "\n",
        "model.summary()\n",
        "\"\"\""
      ]
    },
    {
      "cell_type": "code",
      "execution_count": null,
      "metadata": {
        "id": "kD26FzbBnPPR"
      },
      "outputs": [],
      "source": [
        "\"\"\"\n",
        "#for model 5 \n",
        "from tensorflow.keras.callbacks import Callback, EarlyStopping, ReduceLROnPlateau\n",
        "\n",
        "early_stopping = tf.keras.callbacks.EarlyStopping(\n",
        "    monitor='loss',\n",
        "    min_delta=0.00005,\n",
        "    patience=3,\n",
        "    verbose=1,\n",
        "    restore_best_weights=True,\n",
        " \n",
        "\n",
        ")\n",
        "\n",
        "\n",
        "reduce_learningrate = ReduceLROnPlateau(monitor='loss',\n",
        "                              factor=0.2,\n",
        "                              patience=3,\n",
        "                              verbose=1,\n",
        "                              min_delta=0.0001)\n",
        "\n",
        "model5.compile(loss='categorical_crossentropy',\n",
        "              optimizer = Adam(learning_rate=0.001),\n",
        "              metrics=['accuracy'])\n",
        "\n",
        "history = model5.fit(train_set,\n",
        "    steps_per_epoch = 100,\n",
        "    epochs=100, \n",
        "    callbacks=[early_stopping,reduce_learningrate])\n",
        "\"\"\""
      ]
    },
    {
      "cell_type": "markdown",
      "metadata": {
        "id": "23UBHmTfZ_ds"
      },
      "source": [
        "Split the Data into Training and Validation, then add hyperparameters, to fit this model using Image Data Generator"
      ]
    },
    {
      "cell_type": "code",
      "execution_count": null,
      "metadata": {
        "colab": {
          "base_uri": "https://localhost:8080/"
        },
        "id": "naU5ufRAhpMl",
        "outputId": "9dda5e45-156d-4dca-cf21-bf0311a282f6"
      },
      "outputs": [
        {
          "output_type": "stream",
          "name": "stdout",
          "text": [
            "Found 28821 images belonging to 7 classes.\n",
            "Found 7066 images belonging to 7 classes.\n"
          ]
        }
      ],
      "source": [
        "from tensorflow.keras.preprocessing.image import ImageDataGenerator\n",
        "\n",
        "train_dir = '/content/images/'\n",
        "datagen_train  = ImageDataGenerator()\n",
        "data_val =ImageDataGenerator()\n",
        "\n",
        "\n",
        "train_set = datagen_train.flow_from_directory(train_dir+\"train\",\n",
        "                                              target_size = (50,50),\n",
        "                                              color_mode = 'grayscale',\n",
        "                                              batch_size = 28,\n",
        "                                              class_mode = 'categorical',)                                            \n",
        "\n",
        "val_set = data_val.flow_from_directory(train_dir+\"validation\",\n",
        "                                              target_size = (50,50),\n",
        "                                              color_mode = 'grayscale',\n",
        "                                              batch_size = 28,\n",
        "                                              class_mode = 'categorical')  \n",
        "\n"
      ]
    },
    {
      "cell_type": "markdown",
      "metadata": {
        "id": "3Wvgn-8YU99R"
      },
      "source": [
        "Add early stopping to stop training when parameter updates no longer begin to yield improves on a validation set."
      ]
    },
    {
      "cell_type": "code",
      "execution_count": null,
      "metadata": {
        "id": "ZUpBi9KP7fDt",
        "colab": {
          "base_uri": "https://localhost:8080/"
        },
        "outputId": "ad8b77e6-62cb-46f1-f8ab-726ba75b3dd0"
      },
      "outputs": [
        {
          "output_type": "stream",
          "name": "stdout",
          "text": [
            "Epoch 1/100\n",
            "100/100 [==============================] - 9s 93ms/step - loss: 5.8850 - accuracy: 0.2039\n",
            "Epoch 2/100\n",
            "100/100 [==============================] - 9s 90ms/step - loss: 1.7994 - accuracy: 0.2661\n",
            "Epoch 3/100\n",
            "100/100 [==============================] - 9s 89ms/step - loss: 1.7679 - accuracy: 0.2832\n",
            "Epoch 4/100\n",
            "100/100 [==============================] - 10s 97ms/step - loss: 1.7423 - accuracy: 0.2946\n",
            "Epoch 5/100\n",
            "100/100 [==============================] - 9s 90ms/step - loss: 1.7333 - accuracy: 0.3096\n",
            "Epoch 6/100\n",
            "100/100 [==============================] - 9s 90ms/step - loss: 1.7006 - accuracy: 0.3193\n",
            "Epoch 7/100\n",
            "100/100 [==============================] - 9s 92ms/step - loss: 1.6979 - accuracy: 0.3186\n",
            "Epoch 8/100\n",
            "100/100 [==============================] - 9s 90ms/step - loss: 1.6470 - accuracy: 0.3489\n",
            "Epoch 9/100\n",
            "100/100 [==============================] - 9s 90ms/step - loss: 1.6159 - accuracy: 0.3782\n",
            "Epoch 10/100\n",
            "100/100 [==============================] - 9s 90ms/step - loss: 1.6401 - accuracy: 0.3671\n",
            "Epoch 11/100\n",
            "100/100 [==============================] - 10s 95ms/step - loss: 1.5751 - accuracy: 0.3900\n",
            "Epoch 12/100\n",
            "100/100 [==============================] - 9s 91ms/step - loss: 1.5352 - accuracy: 0.4082\n",
            "Epoch 13/100\n",
            "100/100 [==============================] - 9s 90ms/step - loss: 1.5239 - accuracy: 0.4111\n",
            "Epoch 14/100\n",
            "100/100 [==============================] - 9s 90ms/step - loss: 1.5073 - accuracy: 0.4261\n",
            "Epoch 15/100\n",
            "100/100 [==============================] - 9s 90ms/step - loss: 1.5268 - accuracy: 0.4171\n",
            "Epoch 16/100\n",
            "100/100 [==============================] - 9s 92ms/step - loss: 1.4705 - accuracy: 0.4411\n",
            "Epoch 17/100\n",
            "100/100 [==============================] - 9s 93ms/step - loss: 1.4630 - accuracy: 0.4350\n",
            "Epoch 18/100\n",
            "100/100 [==============================] - 10s 102ms/step - loss: 1.4639 - accuracy: 0.4479\n",
            "Epoch 19/100\n",
            "100/100 [==============================] - 9s 94ms/step - loss: 1.4538 - accuracy: 0.4514\n",
            "Epoch 20/100\n",
            "100/100 [==============================] - 9s 94ms/step - loss: 1.4235 - accuracy: 0.4525\n",
            "Epoch 21/100\n",
            "100/100 [==============================] - 9s 91ms/step - loss: 1.4097 - accuracy: 0.4564\n",
            "Epoch 22/100\n",
            "100/100 [==============================] - 9s 91ms/step - loss: 1.3827 - accuracy: 0.4764\n",
            "Epoch 23/100\n",
            "100/100 [==============================] - 9s 91ms/step - loss: 1.3514 - accuracy: 0.4925\n",
            "Epoch 24/100\n",
            "100/100 [==============================] - 9s 92ms/step - loss: 1.3399 - accuracy: 0.4896\n",
            "Epoch 25/100\n",
            "100/100 [==============================] - 9s 91ms/step - loss: 1.3275 - accuracy: 0.4968\n",
            "Epoch 26/100\n",
            "100/100 [==============================] - 9s 90ms/step - loss: 1.3125 - accuracy: 0.5150\n",
            "Epoch 27/100\n",
            "100/100 [==============================] - 9s 90ms/step - loss: 1.3315 - accuracy: 0.5043\n",
            "Epoch 28/100\n",
            "100/100 [==============================] - 9s 90ms/step - loss: 1.3075 - accuracy: 0.5125\n",
            "Epoch 29/100\n",
            "100/100 [==============================] - 9s 90ms/step - loss: 1.2906 - accuracy: 0.5243\n",
            "Epoch 30/100\n",
            "100/100 [==============================] - 9s 90ms/step - loss: 1.2448 - accuracy: 0.5382\n",
            "Epoch 31/100\n",
            "100/100 [==============================] - 9s 94ms/step - loss: 1.2445 - accuracy: 0.5325\n",
            "Epoch 32/100\n",
            "100/100 [==============================] - 9s 88ms/step - loss: 1.2023 - accuracy: 0.5617\n",
            "Epoch 33/100\n",
            "100/100 [==============================] - 9s 91ms/step - loss: 1.1906 - accuracy: 0.5721\n",
            "Epoch 34/100\n",
            "100/100 [==============================] - 9s 91ms/step - loss: 1.1840 - accuracy: 0.5514\n",
            "Epoch 35/100\n",
            "100/100 [==============================] - 9s 91ms/step - loss: 1.1573 - accuracy: 0.5789\n",
            "Epoch 36/100\n",
            "100/100 [==============================] - 9s 92ms/step - loss: 1.1337 - accuracy: 0.5793\n",
            "Epoch 37/100\n",
            "100/100 [==============================] - 9s 92ms/step - loss: 1.0723 - accuracy: 0.6046\n",
            "Epoch 38/100\n",
            "100/100 [==============================] - 9s 93ms/step - loss: 1.0919 - accuracy: 0.6121\n",
            "Epoch 39/100\n",
            "100/100 [==============================] - 9s 91ms/step - loss: 1.0794 - accuracy: 0.6117\n",
            "Epoch 40/100\n",
            "100/100 [==============================] - 9s 91ms/step - loss: 1.0704 - accuracy: 0.6207\n",
            "Epoch 41/100\n",
            "100/100 [==============================] - 9s 91ms/step - loss: 1.0124 - accuracy: 0.6500\n",
            "Epoch 42/100\n",
            "100/100 [==============================] - 9s 91ms/step - loss: 1.0362 - accuracy: 0.6264\n",
            "Epoch 43/100\n",
            "100/100 [==============================] - 9s 92ms/step - loss: 1.0036 - accuracy: 0.6432\n",
            "Epoch 44/100\n",
            "100/100 [==============================] - ETA: 0s - loss: 0.9992 - accuracy: 0.6496Restoring model weights from the end of the best epoch: 41.\n",
            "100/100 [==============================] - 9s 94ms/step - loss: 0.9992 - accuracy: 0.6496\n",
            "Epoch 44: early stopping\n"
          ]
        }
      ],
      "source": [
        "\n",
        "from tensorflow.keras.callbacks import Callback, EarlyStopping\n",
        "\n",
        "early_stopping = tf.keras.callbacks.EarlyStopping(\n",
        "    monitor='accuracy',\n",
        "    min_delta=0.00005,\n",
        "    patience=3,\n",
        "    verbose=1,\n",
        "    restore_best_weights=True,\n",
        " \n",
        "\n",
        ")\n",
        "history = model.fit(train_set,\n",
        "    steps_per_epoch = 100,\n",
        "    epochs=100, \n",
        "    callbacks=[early_stopping]\n",
        ")\n"
      ]
    },
    {
      "cell_type": "markdown",
      "metadata": {
        "id": "nMlyoiRMUAuq"
      },
      "source": [
        "Generalize the Data and Use it to make predicting."
      ]
    },
    {
      "cell_type": "code",
      "execution_count": null,
      "metadata": {
        "id": "_EnipUQbmmMC",
        "colab": {
          "base_uri": "https://localhost:8080/"
        },
        "outputId": "e6cce63e-0206-4f9a-e0e3-6ab7cb1f53fc"
      },
      "outputs": [
        {
          "output_type": "stream",
          "name": "stdout",
          "text": [
            "Found 7066 images belonging to 7 classes.\n",
            "253/253 [==============================] - 8s 31ms/step - loss: 1.4686 - accuracy: 0.4708\n"
          ]
        },
        {
          "output_type": "execute_result",
          "data": {
            "text/plain": [
              "array([[0.3902716 , 0.10142076, 0.81737185, ..., 0.65334874, 0.8136639 ,\n",
              "        0.12736535],\n",
              "       [0.31974038, 0.13124639, 0.61422735, ..., 0.35221618, 0.513424  ,\n",
              "        0.71416485],\n",
              "       [0.49429655, 0.03434846, 0.59967446, ..., 0.5662753 , 0.44446573,\n",
              "        0.96436656],\n",
              "       ...,\n",
              "       [0.8069062 , 0.13890564, 0.39631197, ..., 0.6523895 , 0.7880449 ,\n",
              "        0.11984003],\n",
              "       [0.9736757 , 0.00893852, 0.34505436, ..., 0.9204972 , 0.9007837 ,\n",
              "        0.00560209],\n",
              "       [0.2501344 , 0.0600304 , 0.28843695, ..., 0.93919015, 0.788695  ,\n",
              "        0.04698968]], dtype=float32)"
            ]
          },
          "metadata": {},
          "execution_count": 37
        }
      ],
      "source": [
        "import tensorflow as tf\n",
        "\n",
        "from tensorflow.keras.preprocessing.image import ImageDataGenerator\n",
        "\n",
        "test_dir = '/content/images/validation'\n",
        "\n",
        "                                           \n",
        "\n",
        "test_image_iterator =tf.keras.preprocessing.image.DirectoryIterator(\n",
        "    directory = test_dir,\n",
        "    target_size = (50,50),\n",
        "    color_mode = 'grayscale',\n",
        "    batch_size = 28,\n",
        "    class_mode = 'categorical',\n",
        "    image_data_generator=None)\n",
        "\n",
        "\n",
        "model.evaluate(test_image_iterator)\n",
        "a = model.predict(test_image_iterator,)\n",
        "a"
      ]
    },
    {
      "cell_type": "code",
      "execution_count": null,
      "metadata": {
        "id": "w2gHPA9ZPm2r",
        "colab": {
          "base_uri": "https://localhost:8080/"
        },
        "outputId": "d6647ce8-d52a-42a1-f13b-16c0b154ba28"
      },
      "outputs": [
        {
          "output_type": "stream",
          "name": "stdout",
          "text": [
            "[2, 6, 6, 6, 3, 5, 2, 2, 3, 6, 0, 3, 3, 6, 4, 3, 4, 1, 3, 0, 2, 3, 5, 4, 3, 4, 6, 4, 3, 5, 5, 3, 5, 5, 5, 2, 4, 6, 0, 6, 2, 2, 5, 3, 5, 0, 3, 4, 0, 3, 6, 6, 0, 5, 3, 0, 3, 5, 4, 2, 2, 3, 5, 5, 3, 3, 6, 4, 6, 2, 4, 2, 5, 3, 2, 0, 4, 2, 5, 3, 5, 0, 3, 3, 4, 0, 6, 3, 4, 0, 4, 5, 0, 5, 0, 4, 5, 6, 5, 6, 3, 3, 3, 3, 2, 2, 0, 0, 4, 0, 6, 3, 0, 5, 3, 3, 5, 2, 0, 0, 5, 4, 5, 3, 2, 3, 3, 0, 3, 0, 4, 3, 0, 3, 4, 5, 6, 3, 4, 6, 6, 4, 0, 5, 3, 4, 3, 0, 3, 2, 2, 3, 5, 3, 2, 2, 5, 3, 2, 5, 2, 0, 3, 5, 4, 4, 4, 3, 4, 2, 3, 0, 0, 3, 6, 4, 6, 5, 0, 5, 5, 5, 3, 2, 4, 5, 5, 3, 0, 3, 4, 6, 2, 2, 2, 3, 5, 2, 3, 2, 4, 6, 5, 6, 4, 0, 2, 3, 4, 2, 5, 2, 5, 5, 5, 0, 3, 4, 0, 3, 6, 4, 4, 3, 0, 6, 6, 6, 3, 3, 5, 6, 3, 6, 2, 4, 1, 0, 0, 5, 3, 0, 3, 5, 5, 5, 2, 0, 3, 0, 5, 3, 4, 3, 3, 3, 0, 5, 6, 3, 4, 5, 6, 0, 5, 4, 4, 6, 5, 4, 6, 4, 6, 5, 5, 3, 5, 5, 0, 3, 3, 2, 6, 6, 2, 5, 6, 3, 2, 4, 5, 3, 3, 6, 5, 5, 6, 3, 3, 3, 4, 3, 3, 3, 3, 2, 5, 5, 5, 3, 0, 5, 4, 3, 3, 3, 4, 3, 3, 6, 4, 6, 5, 2, 4, 2, 3, 4, 6, 3, 0, 5, 6, 6, 5, 6, 0, 4, 5, 3, 3, 4, 2, 5, 3, 3, 5, 0, 2, 3, 3, 2, 2, 2, 3, 4, 3, 4, 5, 3, 0, 0, 3, 2, 3, 6, 6, 5, 3, 5, 3, 3, 6, 5, 5, 4, 4, 0, 4, 2, 2, 0, 4, 0, 1, 5, 4, 5, 2, 6, 3, 5, 0, 2, 3, 6, 6, 4, 3, 5, 4, 4, 2, 4, 0, 5, 2, 2, 6, 6, 5, 5, 3, 0, 2, 4, 2, 3, 3, 2, 3, 3, 3, 3, 6, 6, 2, 6, 5, 0, 3, 2, 3, 5, 6, 3, 4, 4, 5, 4, 5, 5, 3, 3, 0, 0, 5, 6, 5, 5, 4, 6, 1, 3, 0, 3, 3, 4, 0, 6, 2, 3, 3, 6, 5, 0, 4, 4, 5, 3, 2, 3, 3, 5, 2, 2, 3, 5, 4, 5, 6, 3, 2, 0, 3, 5, 0, 5, 3, 5, 3, 2, 4, 0, 2, 3, 2, 4, 2, 4, 2, 0, 5, 5, 3, 3, 5, 2, 0, 0, 5, 2, 6, 2, 5, 3, 5, 0, 5, 5, 3, 4, 5, 6, 3, 0, 4, 2, 0, 5, 3, 3, 5, 3, 5, 6, 4, 3, 3, 3, 3, 5, 5, 3, 3, 6, 3, 4, 3, 0, 4, 6, 3, 4, 6, 3, 6, 5, 4, 0, 3, 6, 0, 3, 5, 2, 4, 4, 6, 2, 3, 0, 3, 0, 3, 5, 3, 3, 5, 4, 3, 6, 4, 6, 5, 2, 6, 0, 5, 3, 1, 3, 5, 2, 2, 0, 0, 5, 6, 3, 2, 3, 3, 6, 4, 3, 4, 5, 4, 0, 4, 0, 3, 3, 3, 2, 2, 3, 5, 0, 4, 3, 6, 2, 5, 0, 3, 6, 3, 6, 3, 2, 6, 4, 2, 3, 3, 3, 3, 4, 3, 6, 4, 5, 3, 0, 4, 2, 3, 3, 5, 2, 2, 5, 5, 6, 0, 3, 0, 4, 5, 5, 4, 3, 0, 5, 6, 4, 0, 4, 3, 6, 6, 0, 2, 2, 3, 0, 6, 3, 4, 6, 3, 0, 5, 5, 3, 5, 5, 2, 4, 5, 3, 6, 5, 5, 0, 2, 3, 3, 2, 3, 4, 4, 4, 3, 5, 3, 3, 2, 4, 0, 6, 2, 3, 5, 5, 4, 0, 2, 5, 3, 2, 4, 4, 5, 4, 2, 2, 5, 3, 5, 5, 3, 2, 6, 3, 3, 5, 1, 3, 3, 0, 2, 2, 6, 5, 5, 4, 6, 3, 2, 2, 3, 5, 0, 0, 3, 4, 3, 0, 3, 5, 2, 3, 5, 4, 3, 5, 2, 6, 5, 4, 4, 3, 4, 2, 3, 4, 4, 0, 6, 0, 3, 3, 2, 3, 2, 5, 3, 2, 3, 0, 0, 3, 4, 3, 3, 3, 4, 5, 5, 5, 4, 3, 3, 3, 5, 4, 4, 3, 6, 5, 0, 5, 3, 3, 3, 3, 2, 0, 0, 0, 6, 5, 6, 3, 6, 3, 3, 5, 5, 5, 4, 2, 3, 5, 3, 3, 6, 3, 0, 3, 6, 4, 3, 5, 4, 4, 5, 5, 2, 4, 4, 3, 5, 3, 6, 3, 5, 3, 2, 3, 5, 3, 3, 1, 3, 6, 4, 3, 5, 5, 5, 2, 0, 6, 0, 3, 5, 5, 3, 5, 4, 6, 0, 3, 3, 5, 6, 4, 6, 0, 3, 3, 0, 5, 2, 3, 5, 6, 2, 2, 2, 2, 2, 5, 2, 3, 3, 3, 4, 4, 3, 2, 5, 5, 6, 0, 4, 0, 2, 2, 3, 5, 5, 2, 0, 3, 0, 6, 0, 3, 4, 3, 3, 3, 6, 0, 2, 5, 6, 4, 4, 3, 5, 2, 2, 3, 5, 2, 0, 5, 3, 5, 1, 3, 3, 3, 3, 5, 3, 2, 5, 3, 5, 3, 6, 0, 3, 5, 4, 3, 6, 3, 2, 3, 4, 6, 6, 3, 6, 3, 0, 2, 2, 3, 3, 0, 3, 2, 4, 0, 3, 4, 0, 0, 4, 3, 2, 5, 0, 3, 5, 4, 0, 6, 0, 5, 4, 3, 6, 0, 6, 4, 6, 3, 0, 3, 6, 4, 4, 4, 4, 3, 3, 3, 6, 5, 0, 2, 3, 2, 0, 4, 5, 0, 4, 4, 4, 3, 6, 6, 5, 3, 6, 5, 3, 3, 3, 0, 2, 3, 6, 5, 5, 2, 0, 2, 3, 3, 4, 5, 5, 3, 3, 5, 5, 2, 5, 4, 5, 3, 5, 3, 3, 0, 4, 3, 5, 3, 4, 2, 5, 3, 5, 4, 4, 3, 0, 1, 3, 2, 0, 5, 0, 0, 3, 2, 3, 2, 5, 4, 4, 0, 0, 6, 3, 5, 3, 5, 5, 3, 3, 5, 6, 4, 3, 2, 5, 4, 3, 4, 2, 0, 4, 3, 5, 0, 0, 5, 6, 0, 5, 5, 6, 2, 3, 5, 2, 2, 0, 3, 6, 5, 0, 3, 5, 5, 3, 4, 3, 0, 2, 3, 1, 6, 0, 3, 3, 2, 0, 6, 4, 2, 4, 6, 4, 3, 2, 5, 2, 0, 3, 2, 3, 2, 4, 0, 0, 5, 5, 4, 0, 5, 6, 5, 3, 6, 4, 4, 3, 0, 5, 5, 0, 0, 2, 0, 4, 6, 2, 6, 6, 5, 3, 2, 5, 6, 2, 3, 3, 6, 4, 4, 2, 5, 2, 0, 5, 3, 4, 3, 0, 5, 6, 5, 6, 3, 2, 0, 3, 3, 2, 3, 6, 6, 6, 2, 5, 3, 2, 5, 5, 4, 3, 1, 2, 5, 0, 3, 3, 5, 5, 3, 2, 3, 2, 2, 4, 3, 3, 3, 3, 0, 0, 3, 4, 3, 4, 6, 3, 5, 4, 5, 4, 0, 4, 5, 4, 6, 0, 3, 2, 3, 3, 3, 4, 5, 2, 6, 5, 4, 4, 3, 4, 5, 2, 0, 3, 0, 6, 3, 6, 3, 6, 5, 6, 3, 5, 6, 6, 0, 4, 2, 4, 4, 4, 0, 5, 4, 5, 2, 0, 5, 3, 2, 3, 5, 2, 2, 5, 6, 3, 3, 5, 5, 2, 4, 2, 4, 6, 5, 0, 0, 6, 0, 6, 5, 2, 4, 3, 2, 0, 6, 3, 2, 0, 3, 2, 3, 4, 5, 3, 2, 6, 6, 6, 6, 3, 2, 5, 3, 5, 3, 5, 0, 2, 0, 6, 5, 2, 5, 3, 3, 0, 2, 5, 5, 6, 5, 3, 6, 3, 2, 5, 0, 4, 2, 6, 5, 3, 4, 3, 2, 4, 4, 2, 3, 2, 5, 3, 5, 6, 6, 5, 4, 2, 2, 4, 3, 6, 5, 2, 4, 5, 2, 6, 3, 3, 5, 0, 5, 5, 3, 0, 4, 2, 3, 5, 3, 0, 2, 2, 4, 4, 6, 0, 3, 2, 5, 4, 2, 0, 1, 5, 4, 3, 3, 3, 4, 2, 6, 0, 4, 3, 6, 5, 3, 0, 3, 0, 4, 3, 4, 3, 5, 0, 5, 4, 5, 3, 3, 3, 6, 4, 6, 3, 5, 5, 4, 4, 3, 3, 4, 4, 4, 3, 6, 4, 6, 4, 5, 5, 3, 3, 6, 2, 2, 2, 4, 6, 5, 4, 3, 4, 0, 6, 6, 5, 1, 3, 3, 2, 5, 0, 0, 2, 5, 3, 4, 2, 5, 2, 4, 3, 0, 3, 5, 5, 5, 2, 3, 5, 4, 6, 3, 3, 4, 3, 2, 4, 4, 5, 5, 3, 4, 6, 2, 6, 3, 4, 2, 0, 3, 2, 0, 6, 3, 0, 3, 3, 4, 6, 4, 0, 3, 3, 3, 6, 3, 3, 5, 5, 0, 0, 5, 1, 4, 5, 2, 3, 3, 0, 3, 4, 4, 4, 4, 3, 5, 3, 5, 3, 3, 1, 3, 6, 4, 3, 0, 0, 0, 3, 6, 4, 6, 4, 5, 0, 4, 4, 6, 5, 5, 5, 2, 6, 6, 6, 2, 0, 6, 5, 0, 0, 3, 2, 5, 4, 5, 4, 3, 6, 3, 2, 5, 4, 3, 5, 5, 3, 4, 2, 6, 6, 4, 0, 2, 2, 6, 4, 3, 5, 2, 3, 3, 3, 0, 5, 3, 3, 3, 0, 2, 3, 5, 4, 5, 5, 3, 3, 3, 3, 0, 5, 6, 5, 6, 3, 4, 5, 2, 3, 2, 2, 5, 5, 2, 2, 3, 3, 5, 5, 2, 0, 2, 5, 0, 5, 2, 0, 3, 0, 0, 5, 4, 3, 5, 2, 2, 5, 6, 3, 6, 3, 5, 5, 3, 3, 5, 6, 3, 2, 2, 1, 4, 4, 5, 2, 0, 3, 6, 3, 4, 4, 4, 3, 3, 2, 3, 5, 0, 3, 6, 4, 2, 4, 5, 4, 2, 2, 3, 3, 5, 2, 3, 3, 5, 2, 2, 0, 6, 0, 3, 2, 0, 3, 4, 2, 4, 3, 5, 2, 5, 0, 2, 6, 4, 3, 6, 5, 0, 5, 5, 0, 3, 2, 6, 3, 0, 0, 3, 3, 3, 4, 5, 5, 2, 3, 5, 3, 3, 3, 5, 3, 2, 0, 2, 3, 5, 5, 6, 0, 3, 3, 4, 6, 3, 0, 4, 3, 0, 6, 4, 5, 6, 4, 4, 5, 6, 3, 3, 2, 6, 3, 4, 2, 3, 3, 3, 0, 3, 3, 3, 3, 4, 3, 2, 0, 2, 3, 3, 5, 2, 6, 4, 6, 4, 4, 6, 0, 2, 0, 3, 4, 5, 3, 6, 5, 0, 4, 3, 5, 5, 6, 5, 3, 0, 5, 4, 3, 5, 3, 2, 0, 4, 5, 2, 3, 5, 0, 6, 4, 4, 5, 4, 6, 3, 3, 3, 2, 4, 3, 3, 5, 4, 3, 3, 5, 4, 2, 3, 4, 5, 0, 0, 3, 3, 2, 4, 6, 0, 4, 2, 4, 2, 5, 4, 0, 5, 5, 4, 2, 0, 4, 4, 3, 5, 4, 0, 3, 5, 5, 4, 3, 0, 4, 5, 3, 4, 3, 5, 2, 4, 0, 3, 4, 3, 2, 5, 0, 2, 4, 1, 4, 0, 5, 4, 5, 3, 1, 4, 2, 6, 3, 0, 2, 6, 5, 4, 5, 6, 4, 6, 6, 2, 0, 4, 5, 3, 2, 4, 3, 0, 3, 2, 4, 4, 2, 4, 0, 3, 2, 1, 2, 5, 5, 5, 5, 5, 3, 4, 6, 5, 5, 0, 6, 0, 5, 4, 5, 2, 3, 4, 6, 5, 2, 3, 6, 5, 5, 6, 5, 3, 5, 2, 3, 0, 4, 2, 5, 6, 6, 4, 4, 6, 0, 5, 2, 4, 0, 0, 5, 5, 5, 2, 2, 3, 6, 5, 5, 4, 6, 2, 4, 4, 5, 3, 5, 6, 3, 3, 4, 5, 0, 5, 0, 2, 0, 0, 3, 3, 3, 3, 6, 4, 2, 3, 4, 6, 4, 4, 0, 2, 6, 5, 3, 5, 0, 3, 2, 6, 0, 2, 0, 2, 4, 6, 2, 4, 6, 5, 2, 3, 6, 6, 3, 2, 5, 2, 3, 0, 4, 3, 6, 5, 2, 6, 0, 3, 3, 0, 2, 2, 3, 6, 0, 1, 3, 5, 3, 3, 2, 5, 4, 3, 2, 5, 0, 4, 3, 3, 0, 0, 6, 2, 4, 4, 3, 2, 0, 0, 5, 0, 6, 2, 2, 4, 4, 2, 6, 2, 2, 3, 6, 0, 6, 3, 4, 0, 3, 6, 5, 4, 6, 5, 3, 3, 0, 3, 6, 5, 3, 5, 6, 6, 4, 3, 3, 3, 3, 3, 5, 3, 1, 3, 4, 5, 3, 0, 2, 3, 3, 2, 2, 6, 3, 0, 5, 0, 5, 5, 6, 2, 3, 3, 3, 2, 4, 5, 0, 0, 2, 0, 5, 0, 5, 0, 4, 0, 5, 4, 2, 4, 3, 2, 4, 4, 4, 3, 3, 6, 4, 0, 4, 4, 6, 0, 0, 5, 5, 6, 5, 3, 4, 3, 0, 3, 5, 0, 3, 6, 4, 6, 5, 3, 5, 0, 5, 5, 2, 5, 3, 3, 6, 3, 6, 4, 5, 4, 3, 5, 6, 4, 6, 2, 0, 6, 5, 5, 3, 5, 6, 5, 3, 6, 3, 5, 5, 3, 2, 5, 4, 5, 2, 3, 4, 3, 4, 3, 5, 2, 0, 6, 5, 5, 0, 6, 3, 2, 5, 5, 4, 3, 3, 0, 5, 4, 4, 3, 2, 5, 3, 1, 4, 6, 3, 4, 5, 0, 5, 3, 2, 0, 6, 5, 6, 0, 0, 6, 6, 2, 5, 5, 2, 6, 3, 6, 6, 4, 2, 4, 5, 3, 4, 4, 5, 0, 3, 3, 3, 3, 4, 2, 6, 6, 5, 5, 6, 2, 3, 5, 0, 1, 4, 5, 2, 4, 3, 0, 5, 6, 0, 5, 4, 3, 5, 4, 5, 5, 3, 3, 4, 6, 6, 2, 4, 2, 3, 6, 5, 3, 2, 3, 3, 0, 3, 6, 6, 0, 5, 3, 2, 2, 5, 4, 5, 0, 5, 1, 0, 4, 5, 2, 5, 3, 3, 3, 3, 6, 5, 3, 5, 5, 4, 2, 2, 6, 2, 0, 4, 3, 3, 3, 3, 3, 0, 3, 3, 5, 5, 6, 5, 3, 0, 5, 3, 5, 3, 6, 0, 3, 2, 6, 6, 4, 3, 5, 3, 5, 0, 5, 3, 2, 3, 5, 4, 0, 0, 0, 0, 0, 3, 3, 0, 3, 5, 3, 3, 2, 4, 3, 6, 6, 4, 2, 4, 4, 5, 6, 4, 2, 3, 5, 4, 4, 4, 3, 6, 3, 2, 5, 4, 3, 3, 3, 3, 3, 3, 6, 2, 5, 5, 4, 4, 5, 5, 3, 5, 5, 3, 0, 3, 6, 5, 5, 2, 0, 4, 3, 0, 5, 3, 2, 3, 0, 4, 3, 3, 5, 3, 3, 5, 6, 0, 5, 4, 3, 2, 3, 5, 3, 5, 0, 3, 3, 3, 6, 4, 3, 3, 3, 4, 4, 4, 0, 4, 5, 5, 4, 2, 5, 2, 4, 5, 4, 5, 3, 3, 4, 4, 5, 0, 3, 5, 2, 4, 3, 5, 2, 3, 3, 3, 5, 0, 4, 4, 2, 2, 5, 0, 5, 0, 5, 5, 0, 0, 3, 4, 2, 4, 3, 6, 3, 5, 5, 5, 0, 3, 3, 5, 5, 3, 6, 3, 4, 4, 0, 3, 0, 4, 3, 2, 4, 3, 6, 2, 4, 6, 6, 3, 0, 3, 5, 4, 4, 3, 6, 2, 5, 3, 6, 3, 2, 3, 5, 6, 2, 0, 5, 5, 4, 3, 4, 5, 2, 4, 2, 0, 5, 2, 3, 2, 3, 4, 2, 2, 3, 3, 5, 6, 3, 2, 5, 3, 5, 3, 6, 2, 3, 3, 3, 6, 3, 3, 6, 0, 3, 2, 6, 3, 0, 5, 5, 6, 4, 2, 3, 3, 3, 5, 0, 5, 6, 3, 4, 3, 4, 3, 4, 5, 3, 6, 4, 6, 2, 3, 3, 0, 2, 4, 3, 5, 2, 3, 4, 5, 5, 0, 2, 3, 3, 2, 5, 3, 2, 2, 6, 5, 3, 4, 0, 3, 3, 1, 0, 3, 3, 0, 4, 4, 2, 3, 5, 2, 6, 3, 3, 5, 4, 6, 2, 3, 3, 3, 4, 5, 3, 5, 3, 3, 5, 5, 5, 4, 6, 3, 2, 4, 0, 4, 6, 2, 4, 3, 5, 5, 6, 2, 0, 3, 3, 6, 2, 6, 3, 3, 4, 2, 0, 0, 5, 5, 2, 3, 5, 6, 6, 0, 6, 5, 2, 5, 5, 3, 0, 5, 3, 3, 2, 3, 2, 4, 5, 0, 4, 0, 5, 2, 3, 5, 5, 3, 3, 5, 2, 2, 4, 5, 3, 0, 2, 6, 2, 3, 0, 3, 3, 5, 3, 2, 0, 6, 5, 4, 5, 0, 2, 5, 0, 2, 3, 3, 4, 4, 0, 5, 2, 5, 3, 3, 4, 4, 4, 6, 4, 6, 3, 6, 3, 0, 1, 5, 5, 4, 5, 2, 2, 0, 2, 3, 5, 6, 5, 3, 2, 0, 0, 4, 3, 4, 2, 6, 3, 4, 2, 6, 4, 3, 3, 0, 4, 5, 5, 5, 6, 5, 2, 4, 3, 4, 5, 2, 5, 2, 3, 2, 5, 6, 5, 3, 6, 2, 0, 2, 2, 2, 2, 4, 5, 5, 3, 2, 2, 4, 6, 3, 5, 0, 3, 6, 3, 0, 0, 2, 0, 5, 3, 3, 5, 2, 2, 3, 5, 5, 2, 6, 4, 5, 5, 5, 0, 6, 3, 5, 3, 3, 3, 5, 3, 3, 3, 4, 2, 6, 3, 5, 3, 5, 0, 4, 6, 4, 4, 3, 3, 3, 5, 5, 3, 0, 4, 5, 4, 6, 3, 5, 5, 0, 4, 5, 6, 0, 0, 3, 6, 6, 3, 3, 4, 5, 2, 6, 3, 4, 3, 6, 2, 0, 4, 0, 4, 5, 3, 6, 2, 3, 2, 5, 2, 3, 6, 2, 6, 0, 5, 2, 3, 3, 5, 3, 4, 3, 5, 4, 2, 3, 3, 2, 0, 5, 6, 5, 4, 2, 0, 3, 0, 5, 6, 5, 2, 4, 4, 5, 6, 2, 0, 3, 3, 6, 4, 3, 3, 4, 5, 6, 4, 4, 3, 6, 5, 4, 0, 5, 6, 3, 4, 5, 2, 6, 3, 3, 2, 3, 6, 4, 5, 3, 5, 5, 3, 0, 0, 3, 3, 3, 0, 6, 6, 4, 4, 3, 5, 4, 2, 3, 4, 3, 2, 3, 3, 5, 5, 6, 6, 0, 3, 5, 3, 2, 3, 0, 5, 2, 4, 2, 0, 5, 6, 0, 2, 5, 4, 3, 6, 3, 0, 5, 4, 5, 1, 6, 3, 0, 5, 2, 6, 3, 3, 3, 3, 4, 2, 3, 4, 3, 1, 3, 5, 4, 6, 2, 5, 3, 6, 5, 4, 2, 4, 3, 2, 2, 5, 6, 3, 3, 5, 2, 4, 4, 3, 2, 3, 6, 5, 3, 5, 6, 5, 0, 5, 5, 5, 0, 3, 4, 3, 5, 3, 2, 6, 6, 2, 6, 0, 4, 5, 4, 6, 5, 2, 6, 4, 3, 0, 3, 3, 2, 0, 3, 0, 2, 5, 6, 4, 4, 0, 3, 2, 4, 3, 4, 4, 0, 4, 5, 6, 5, 0, 0, 0, 3, 5, 2, 4, 3, 4, 2, 4, 5, 2, 3, 2, 6, 3, 4, 2, 6, 3, 5, 6, 2, 3, 5, 0, 3, 4, 3, 6, 4, 3, 5, 4, 0, 0, 5, 5, 6, 2, 6, 3, 4, 5, 0, 2, 2, 5, 0, 4, 0, 3, 3, 3, 3, 5, 5, 5, 3, 3, 6, 5, 3, 3, 2, 2, 3, 0, 0, 3, 5, 5, 3, 3, 4, 3, 3, 4, 3, 4, 1, 5, 3, 3, 3, 0, 6, 2, 4, 3, 2, 0, 3, 3, 2, 6, 4, 3, 3, 6, 2, 3, 5, 5, 4, 2, 3, 3, 6, 4, 0, 2, 0, 4, 6, 0, 4, 3, 3, 5, 4, 4, 2, 5, 4, 3, 3, 2, 4, 2, 2, 2, 3, 0, 0, 5, 5, 4, 5, 3, 4, 2, 6, 5, 4, 5, 3, 3, 4, 5, 4, 5, 2, 2, 6, 6, 2, 4, 6, 5, 0, 3, 2, 4, 0, 5, 5, 1, 3, 6, 3, 3, 5, 3, 4, 3, 3, 4, 3, 3, 3, 3, 5, 5, 5, 4, 0, 5, 3, 4, 0, 3, 5, 6, 5, 3, 2, 6, 0, 0, 5, 3, 5, 5, 3, 3, 2, 5, 0, 0, 3, 6, 0, 3, 2, 3, 2, 6, 0, 0, 5, 0, 5, 6, 0, 0, 5, 2, 0, 5, 3, 3, 3, 5, 3, 5, 0, 6, 0, 0, 3, 0, 2, 4, 4, 2, 3, 0, 3, 4, 0, 5, 4, 4, 2, 4, 5, 0, 2, 3, 1, 4, 6, 4, 3, 3, 6, 5, 5, 3, 3, 5, 2, 5, 3, 3, 5, 3, 0, 3, 4, 1, 0, 5, 6, 5, 5, 3, 5, 5, 5, 2, 0, 5, 0, 5, 5, 0, 6, 5, 4, 2, 5, 2, 3, 6, 3, 3, 5, 2, 0, 5, 6, 3, 3, 2, 3, 4, 5, 0, 2, 0, 6, 4, 3, 2, 0, 1, 6, 3, 5, 3, 3, 3, 4, 0, 5, 6, 3, 5, 6, 2, 6, 2, 0, 2, 0, 0, 6, 6, 5, 4, 4, 5, 5, 5, 0, 5, 5, 2, 0, 3, 3, 3, 5, 4, 6, 2, 2, 3, 5, 2, 4, 0, 4, 3, 2, 4, 4, 6, 3, 4, 2, 5, 2, 6, 5, 5, 6, 4, 3, 2, 3, 2, 2, 0, 3, 4, 5, 6, 3, 4, 3, 3, 5, 6, 3, 0, 4, 0, 0, 0, 3, 2, 3, 0, 5, 3, 5, 6, 3, 0, 0, 4, 3, 4, 2, 2, 4, 0, 3, 2, 2, 3, 2, 0, 6, 0, 5, 5, 2, 2, 3, 5, 3, 5, 0, 3, 2, 6, 3, 3, 3, 3, 3, 3, 3, 5, 2, 4, 5, 3, 0, 3, 3, 3, 5, 4, 4, 5, 5, 5, 2, 5, 0, 2, 0, 3, 3, 4, 2, 4, 5, 5, 2, 3, 5, 3, 5, 3, 3, 6, 0, 5, 3, 0, 4, 5, 3, 6, 4, 2, 4, 2, 5, 3, 0, 2, 4, 2, 0, 0, 2, 2, 3, 3, 6, 2, 4, 3, 0, 2, 3, 3, 4, 3, 2, 4, 3, 3, 0, 4, 5, 0, 2, 4, 5, 4, 4, 3, 4, 6, 3, 3, 3, 5, 5, 3, 3, 4, 5, 2, 2, 5, 2, 5, 4, 0, 3, 3, 0, 2, 3, 0, 3, 5, 5, 6, 4, 2, 5, 3, 3, 6, 4, 5, 6, 0, 3, 3, 6, 6, 6, 3, 5, 5, 0, 5, 3, 3, 0, 5, 2, 6, 2, 5, 5, 2, 4, 5, 3, 2, 5, 5, 3, 5, 3, 4, 3, 0, 0, 0, 5, 6, 0, 0, 6, 6, 5, 4, 3, 6, 4, 4, 3, 6, 2, 2, 6, 3, 2, 5, 0, 3, 4, 4, 5, 6, 6, 4, 2, 4, 4, 5, 3, 5, 2, 0, 5, 3, 3, 4, 3, 3, 3, 3, 0, 0, 2, 5, 2, 5, 5, 3, 0, 6, 5, 3, 4, 3, 0, 4, 5, 6, 0, 3, 0, 2, 4, 6, 2, 0, 0, 3, 0, 5, 4, 3, 0, 0, 5, 5, 0, 5, 5, 6, 5, 6, 0, 5, 5, 5, 3, 2, 3, 3, 4, 2, 6, 4, 6, 3, 3, 4, 0, 0, 2, 5, 4, 2, 2, 5, 0, 3, 4, 3, 3, 5, 5, 4, 4, 2, 0, 5, 3, 6, 4, 6, 0, 5, 3, 4, 4, 6, 0, 5, 5, 3, 3, 3, 4, 2, 3, 6, 5, 0, 2, 3, 0, 3, 0, 0, 0, 5, 6, 5, 3, 2, 0, 2, 4, 3, 5, 0, 6, 3, 3, 2, 6, 4, 3, 0, 2, 5, 2, 5, 5, 4, 4, 4, 2, 2, 2, 3, 3, 0, 3, 3, 6, 5, 5, 4, 4, 4, 0, 3, 4, 6, 5, 4, 0, 3, 6, 5, 4, 3, 6, 4, 2, 6, 5, 3, 3, 6, 3, 3, 5, 0, 3, 6, 3, 5, 3, 5, 0, 5, 6, 5, 3, 3, 6, 4, 4, 0, 2, 6, 0, 4, 3, 5, 2, 2, 2, 2, 3, 1, 5, 6, 2, 0, 3, 0, 4, 5, 3, 4, 5, 2, 2, 0, 4, 2, 2, 3, 3, 3, 3, 5, 4, 3, 3, 0, 6, 0, 2, 6, 4, 0, 5, 3, 5, 0, 3, 6, 0, 2, 0, 2, 5, 0, 0, 3, 3, 3, 5, 3, 3, 5, 5, 0, 0, 6, 3, 4, 6, 3, 3, 5, 4, 2, 5, 3, 5, 2, 6, 5, 3, 5, 3, 3, 3, 3, 2, 1, 2, 5, 0, 5, 5, 4, 4, 3, 5, 6, 2, 0, 5, 3, 0, 3, 5, 0, 3, 2, 3, 6, 5, 0, 5, 3, 4, 5, 1, 0, 3, 5, 4, 3, 2, 4, 6, 2, 2, 3, 3, 3, 2, 2, 5, 0, 2, 3, 6, 0, 4, 5, 0, 3, 6, 5, 3, 4, 3, 4, 5, 3, 4, 3, 0, 3, 0, 4, 0, 3, 2, 3, 3, 4, 3, 4, 6, 3, 3, 4, 3, 5, 2, 5, 3, 3, 2, 3, 0, 3, 3, 5, 3, 0, 5, 3, 5, 0, 3, 0, 5, 4, 3, 3, 6, 5, 5, 3, 4, 4, 5, 3, 5, 3, 3, 0, 3, 2, 4, 4, 5, 5, 6, 0, 3, 5, 5, 3, 2, 4, 5, 5, 3, 5, 3, 6, 5, 0, 2, 0, 4, 4, 5, 5, 0, 0, 0, 0, 4, 1, 2, 5, 3, 0, 5, 5, 2, 3, 5, 3, 2, 0, 3, 3, 5, 6, 2, 2, 5, 5, 4, 2, 4, 3, 4, 5, 5, 4, 4, 0, 6, 0, 3, 5, 5, 3, 3, 5, 2, 4, 4, 3, 5, 6, 3, 3, 6, 5, 4, 3, 6, 3, 4, 5, 0, 5, 4, 2, 0, 5, 0, 6, 0, 5, 4, 3, 6, 5, 5, 4, 5, 3, 5, 3, 2, 3, 0, 5, 4, 5, 3, 5, 5, 5, 5, 3, 0, 5, 2, 0, 5, 3, 5, 4, 5, 3, 5, 4, 3, 5, 2, 0, 6, 4, 3, 4, 6, 2, 3, 2, 0, 5, 5, 5, 6, 4, 6, 0, 4, 2, 0, 6, 5, 2, 4, 3, 6, 4, 2, 4, 0, 6, 2, 4, 3, 4, 3, 3, 5, 5, 5, 4, 3, 6, 5, 3, 4, 5, 5, 2, 5, 3, 0, 4, 3, 0, 5, 6, 3, 3, 6, 4, 6, 5, 2, 5, 4, 4, 2, 4, 3, 3, 6, 3, 2, 4, 2, 3, 4, 3, 3, 5, 5, 0, 3, 5, 2, 3, 5, 0, 0, 5, 2, 2, 5, 0, 4, 5, 2, 5, 3, 4, 2, 3, 4, 6, 3, 4, 3, 3, 5, 3, 3, 3, 5, 2, 6, 5, 4, 3, 3, 5, 3, 0, 0, 3, 5, 0, 6, 4, 3, 0, 5, 3, 4, 5, 6, 2, 5, 4, 6, 3, 2, 3, 0, 0, 5, 4, 3, 6, 4, 3, 5, 5, 2, 4, 4, 2, 4, 5, 0, 5, 0, 6, 5, 2, 3, 2, 3, 3, 5, 3, 2, 4, 6, 0, 4, 5, 5, 4, 6, 6, 2, 2, 5, 6, 3, 3, 3, 4, 2, 4, 3, 3, 2, 3, 5, 0, 3, 5, 3, 5, 1, 3, 3, 3, 0, 0, 3, 3, 4, 0, 3, 2, 4, 5, 5, 0, 3, 5, 2, 3, 4, 3, 3, 5, 0, 3, 0, 5, 3, 2, 6, 2, 0, 4, 5, 4, 6, 3, 0, 4, 3, 3, 1, 3, 5, 6, 2, 3, 2, 2, 3, 5, 0, 3, 1, 4, 0, 3, 3, 6, 3, 6, 6, 5, 1, 4, 2, 4, 5, 3, 0, 5, 2, 2, 4, 2, 4, 4, 4, 5, 6, 6, 4, 3, 4, 3, 4, 0, 5, 2, 4, 2, 2, 2, 3, 5, 3, 4, 2, 3, 2, 2, 3, 0, 6, 3, 3, 2, 2, 5, 6, 0, 6, 4, 0, 6, 0, 3, 4, 0, 3, 2, 2, 0, 6, 4, 5, 3, 6, 6, 4, 4, 2, 5, 2, 4, 3, 5, 6, 4, 3, 5, 3, 2, 4, 3, 2, 5, 2, 3, 3, 0, 2, 2, 2, 5, 4, 3, 5, 3, 5, 4, 2, 5, 3, 3, 3, 3, 0, 2, 5, 5, 3, 2, 2, 4, 5, 2, 0, 5, 5, 3, 6, 4, 3, 6, 2, 2, 5, 3, 3, 6, 3, 5, 1, 3, 4, 3, 5, 3, 6, 4, 4, 4, 5, 4, 3, 6, 3, 4, 6, 4, 0, 0, 5, 4, 3, 6, 4, 3, 5, 0, 4, 3, 2, 3, 3, 3, 4, 2, 3, 3, 3, 3, 4, 0, 3, 5, 3, 3, 6, 4, 4, 5, 4, 3, 0, 5, 3, 0, 6, 2, 0, 3, 0, 5, 5, 6, 6, 5, 3, 5, 3, 2, 5, 3, 3, 0, 3, 5, 4, 2, 2, 3, 0, 2, 4, 3, 4, 4, 6, 5, 2, 0, 4, 2, 6, 5, 3, 0, 4, 6, 6, 4, 3, 3, 6, 2, 3, 2, 2, 4, 6, 5, 4, 5, 2, 0, 0, 5, 4, 5, 3, 3, 4, 3, 0, 3, 2, 6, 4, 6, 4, 3, 4, 2, 6, 3, 2, 6, 2, 3, 0, 3, 4, 5, 5, 3, 2, 4, 4, 2, 3, 6, 0, 6, 6, 4, 5, 5, 4, 4, 1, 5, 0, 3, 2, 3, 5, 4, 0, 3, 3, 0, 4, 3, 0, 2, 4, 6, 3, 5, 3, 2, 3, 6, 3, 3, 4, 3, 5, 6, 0, 6, 3, 5, 0, 4, 2, 0, 3, 3, 5, 3, 3, 3, 6, 6, 0, 5, 3, 5, 2, 4, 4, 6, 3, 1, 2, 3, 3, 3, 5, 0, 4, 4, 4, 3, 3, 0, 5, 3, 0, 0, 5, 4, 4, 6, 6, 4, 3, 4, 6, 4, 5, 4, 6, 6, 3, 5, 3, 2, 2, 4, 2, 4, 3, 3, 4, 3, 0, 5, 0, 3, 3, 0, 4, 4, 5, 0, 3, 2, 4, 5, 3, 3, 4, 3, 4, 3, 3, 5, 2, 5, 4, 3, 6, 3, 2, 4, 6, 3, 3, 6, 4, 2, 3, 4, 5, 5, 5, 0, 4, 3, 5, 5, 4, 6, 5, 5, 5, 5, 2, 2, 3, 3, 3, 6, 3, 3, 2, 3, 5, 5, 5, 2, 6, 3, 5, 4, 2, 3, 3, 2, 0, 0, 0, 4, 3, 6, 2, 4, 4, 3, 2, 0, 1, 2, 5, 0, 2, 3, 0, 6, 4, 2, 5, 2, 2, 6, 0, 3, 5, 3, 3, 5, 5, 5, 2, 3, 4, 3, 5, 2, 4, 3, 4, 6, 3, 0, 4, 5, 0, 3, 5, 0, 3, 5, 5, 3, 5, 5, 2, 4, 4, 4, 3, 2, 4, 3, 4, 6, 3, 3, 0, 5, 6, 0, 4, 3, 6, 4, 2, 2, 3, 5, 0, 3, 4, 1, 6, 5, 5, 4, 6, 5, 4, 5, 2, 1, 0, 2, 2, 0, 2, 5, 6, 2, 6, 5, 6, 4, 0, 3, 1, 5, 4, 5, 4, 0, 5, 3, 5, 3, 3, 4, 5, 5, 0, 5, 2, 5, 3, 2, 5, 5, 5, 2, 6, 5, 4, 3, 6, 3, 5, 6, 3, 3, 3, 4, 3, 4, 0, 5, 5, 6, 5, 3, 5, 0, 4, 4, 3, 4, 5, 3, 2, 2, 4, 5, 4, 3, 3, 4, 3, 2, 3, 5, 3, 6, 6, 3, 3, 6, 3, 3, 0, 0, 4, 3, 4, 5, 3, 4, 5, 4, 5, 2, 5, 6, 3, 3, 4, 0, 0, 2, 5, 3, 5, 2, 3, 2, 3, 5, 4, 0, 4, 6, 5, 4, 0, 2, 5, 5, 6, 5, 3, 3, 1, 5, 5, 4, 2, 3, 5, 6, 3, 5, 3, 6, 3, 3, 4, 6, 0, 2, 5, 3, 5, 4, 2, 4, 5, 6, 3, 0, 5, 4, 2, 5, 0, 2, 6, 4, 1, 2, 0, 5, 5, 2, 2, 5, 0, 2, 3, 4, 3, 5, 0, 4, 5, 6, 3, 3, 2, 6, 2, 3, 4, 1, 5, 3, 3, 3, 3, 3, 4, 4, 0, 3, 3, 2, 5, 5, 5, 5, 2, 0, 3, 2, 3, 2, 2, 3, 4, 5, 4, 2, 3, 4, 5, 3, 3, 3, 3, 4, 3, 0, 4, 3, 3, 4, 3, 2, 5, 6, 4, 3, 2, 3, 2, 2, 4, 0, 3, 5, 2, 3, 1, 6, 3, 4, 2, 5, 6, 4, 5, 0, 6, 0, 4, 6, 5, 0, 6, 0, 4, 2, 3, 4, 2, 3, 4, 5, 4, 0, 3, 6, 3, 2, 0, 3, 5, 3, 3, 0, 3, 3, 6, 4, 0, 3, 2, 3, 6, 4, 3, 3, 4, 5, 4, 5, 3, 4, 6, 0, 2, 2, 5, 0, 3, 5, 6, 3, 3, 2, 3, 2, 3, 4, 3, 2, 3, 3, 0, 0, 3, 3, 3, 2, 4, 5, 4, 3, 3, 2, 5, 6, 2, 2, 0, 5, 5, 2, 3, 3, 5, 5, 6, 0, 2, 0, 5, 4, 2, 5, 1, 5, 2, 3, 4, 2, 4, 5, 3, 3, 0, 2, 3, 3, 4, 6, 6, 5, 5, 3, 5, 0, 0, 3, 4, 6, 2, 3, 4, 4, 5, 3, 5, 3, 5, 5, 5, 0, 3, 4, 3, 0, 2, 4, 5, 5, 5, 5, 6, 3, 5, 4, 6, 0, 6, 3, 4, 6, 2, 1, 3, 4, 3, 3, 6, 4, 3, 0, 5, 3, 2, 5, 2, 4, 5, 5, 3, 3, 5, 5, 6, 4, 5, 6, 2, 4, 3, 2, 6, 5, 0, 2, 5, 3, 3, 4, 3, 0, 2, 3, 5, 2, 6, 5, 2, 2, 2, 3, 3, 0, 4, 2, 3, 2, 3, 3, 4, 3, 2, 5, 0, 4, 5, 6, 4, 5, 0, 4, 3, 4, 3, 5, 0, 2, 5, 3, 3, 3, 4, 3, 5, 5, 6, 0, 3, 3, 2, 5, 0, 3, 2, 5, 2, 5, 5, 0, 3, 3, 5, 2, 3, 4, 0, 3, 5, 2, 3, 0, 5, 3, 0, 6, 2, 3, 3, 4, 3, 3, 3, 3, 3, 2, 4, 2, 0, 2, 5, 5, 0, 3, 4, 2, 0, 0, 6, 0, 4, 4, 4, 2, 0, 4, 3, 3, 2, 0, 5, 5, 5, 0, 4, 4, 2, 3, 6, 2, 2, 3, 2, 6, 6, 3, 0, 2, 0, 4, 6, 2, 6, 6, 5, 4, 2, 3, 5, 3, 2, 3, 5, 5, 2, 4, 3, 5, 5, 3, 6, 4, 4, 0, 5, 3, 0, 0, 6, 3, 3, 1, 0, 0, 6, 6, 4, 2, 5, 3, 3, 4, 0, 3, 4, 5, 5, 5, 4, 5, 6, 2, 5, 5, 3, 5, 6, 3, 4, 4, 3, 4, 3, 2, 6, 3, 6, 2, 4, 4, 3, 4, 3, 2, 5, 4, 6, 5, 4, 6, 2, 4, 5, 3, 2, 0, 4, 3, 0, 5, 5, 3, 2, 6, 3, 6, 5, 2, 5, 3, 3, 3, 0, 2, 3, 4, 4, 6, 2, 3, 0, 3, 6, 2, 3, 6, 5, 2, 2, 3, 5, 4, 3, 3, 6, 3, 3, 4, 4, 4, 0, 5, 3, 6, 3, 3, 3, 3, 4, 3, 6, 4, 0, 5, 4, 3, 3, 0, 5, 4, 5, 4, 5, 5, 2, 3, 2, 5, 3, 0, 3, 0, 5, 5, 4, 3, 6, 4, 3, 0, 0, 5, 0, 3, 5, 2, 3, 3, 4, 5, 2, 6, 3, 0, 4, 0, 0, 3, 5, 5, 4, 2, 3, 3, 3, 2, 3, 4, 5, 4, 4, 6, 3, 5, 3, 6, 0, 3, 0, 4, 2, 3, 3, 4, 3, 6, 5, 6, 5, 2, 3, 2, 0, 2, 3, 3, 5, 1, 4, 6, 4, 5, 3, 6, 4, 4, 6, 6, 5, 0, 5, 3, 2, 0, 5, 5, 0, 0, 4, 2, 5, 4, 3, 3, 5, 3, 5, 6, 5, 6, 5, 5, 3, 4, 5, 4, 3, 3, 3, 3, 3, 0, 2, 6, 2, 3, 3, 2, 3, 6, 3, 5, 3, 3, 3, 6, 6, 2, 2, 3, 0, 2, 4, 4, 4, 5, 5, 3, 0, 5, 2, 4, 5, 2, 0, 3, 3, 0, 3, 3, 3, 4, 0, 0, 4, 5, 0, 5, 4, 5, 3, 6, 4, 5, 0, 3, 2, 3, 5, 5, 5, 4, 5, 6, 6, 3, 2, 6, 3, 5, 5, 3, 6, 4, 6, 3, 2, 0, 3, 5, 3, 6, 6, 3, 0, 4, 5, 4, 2, 3, 3, 6, 3, 2, 3, 4, 5, 5, 5, 2, 4, 6, 4, 6, 2, 4, 3, 0, 3, 6, 5, 5, 3, 2, 0, 5, 5, 4, 6, 4, 0, 6, 3, 2, 0, 5, 4, 5, 3, 2, 3, 5, 6, 3, 4, 5, 3, 2, 0, 3, 3, 4, 0, 5, 5, 2, 3, 0, 3, 3, 3, 2, 5, 3, 0, 4, 3, 3, 4, 4, 2, 4, 4, 4, 5, 0, 5, 4, 6, 5, 4, 2, 3, 2, 0, 4, 3, 2, 4, 6, 2, 3, 4, 4, 6, 3, 2, 4, 4, 3, 5, 2, 0, 0, 2, 6, 5, 2, 2, 3, 5, 2, 5, 3, 3, 3, 5, 3, 5, 3, 5, 0, 5, 4, 3, 6, 5, 0, 6, 4, 4, 3, 4, 4, 3, 5, 3, 0, 2, 0, 4, 4, 4, 6, 6, 1, 6, 5, 0, 3, 2, 3, 5, 6, 3, 6, 5, 3, 3, 0, 4, 0, 5, 6, 3, 5, 1, 3, 3, 3, 3, 3, 3, 2, 3, 2, 6, 3, 6, 5, 5, 4, 3, 3, 5, 0, 2, 4, 4, 3, 3, 4, 3, 4, 6, 3, 2, 5, 3, 0, 4, 6, 2, 5, 5, 0, 3, 5, 6, 5, 3, 0, 5, 3, 2, 3, 2, 2, 3, 0, 2, 2, 5, 3, 3, 3, 3, 0, 5, 3, 6, 3, 2, 5, 0, 5, 4, 5, 5, 4, 6, 2, 5, 5, 0, 0, 5, 5, 2, 0, 4, 2, 4, 2, 3, 6, 5, 4, 4, 0, 2, 5, 5, 5, 5, 3, 4, 3, 6, 6, 4, 0, 3, 4, 4, 4, 4, 3, 5, 5, 3, 5, 3, 6, 5, 5, 0, 5, 0, 4, 3, 4, 1, 5, 5, 3, 3, 3, 2, 6, 3, 0, 3, 2, 3, 2, 2, 2, 3, 5, 3, 2, 2, 2, 2, 0, 3, 0, 3, 5, 5, 3, 0, 3, 5, 5, 5, 6, 5, 6, 2, 5, 6, 6, 2, 3, 0, 3, 3, 0, 2, 2, 0, 6, 3, 3, 5, 6, 4, 0, 0, 3, 0, 5, 0, 3, 3, 6, 3, 4, 5, 4, 3, 6, 3, 0, 5, 3, 5, 3, 6, 2, 0, 5, 4, 4, 3, 3, 0, 2, 3, 3, 4, 4, 3, 5, 1, 3, 4, 2, 5, 3, 4, 5, 3, 6, 5, 0, 5, 3, 3, 2, 4, 4, 3, 4, 3, 5, 0, 6, 0, 2, 3, 3, 0, 3, 5, 3, 3, 5, 4, 5, 6, 4, 2, 2, 5, 0, 5, 3, 6, 5, 6, 5, 4, 5, 4, 5, 4, 5, 5, 3, 4, 4, 2, 0, 2, 3, 3, 0, 3, 2, 3, 3, 3, 0, 0, 4, 3, 0, 4, 4, 3, 2, 0, 2, 0, 2, 5, 0, 3, 3, 4, 2, 4, 5, 3, 3, 4, 3, 0, 4, 4, 4, 4, 5, 5, 4, 5, 4, 6, 0, 4, 2, 5, 6, 3, 6, 0, 5, 3, 4, 3, 5, 4, 5, 5, 0, 6, 5, 5, 0, 6, 5, 0, 3, 6, 0, 2, 2, 5, 2, 5, 6, 2, 6, 3, 3, 4, 2, 5, 3, 0, 0, 4, 4, 5, 3, 3, 3, 3, 4, 0, 5, 3, 3, 0, 0, 6, 5, 2, 1, 5, 6, 4, 5, 0, 4, 3, 0, 5, 3, 2, 6, 5, 0, 4, 0, 3, 0, 6, 3, 5, 2, 6, 5, 3, 2, 2, 0, 6, 5, 6, 4, 5, 3, 2, 0, 3, 0, 5, 3, 3, 6, 6, 4, 2, 0, 4, 3, 4, 6, 0, 3, 6, 3, 3, 2, 3, 3, 5, 3, 4, 2, 5, 3, 3, 4, 6, 0, 2, 2, 3, 5, 3, 4, 3, 4, 5, 5, 3, 3, 2, 5, 5, 4, 3, 3, 6, 4, 3, 0, 4, 3, 4, 5, 0, 4, 2, 3, 6, 6, 4, 0, 0, 5, 5, 4, 4, 3, 3, 5, 1, 3, 4, 3, 2, 4, 4, 2, 3, 6, 3, 4, 5, 6, 6, 3, 3, 4, 2, 2, 5, 6, 3, 3, 2, 6, 4, 5, 6, 5, 4, 5, 5, 3, 3, 6, 2, 0, 4, 3, 3, 3, 3, 0, 5, 4, 3, 0, 6, 0, 0, 3, 3, 5, 2, 5, 0, 2, 5, 0, 3, 3, 6, 4, 4, 5, 5, 3, 0, 0, 3, 3, 5, 3, 6, 0, 2, 3, 5, 5, 5, 5, 2, 2, 5, 4, 4, 3, 3, 3, 0, 6, 0, 5, 2, 3, 5, 5, 0, 3, 0, 3, 5, 6, 6, 2, 5, 3, 6, 6, 5, 0, 5, 0, 0, 5, 4, 6, 3, 6, 3, 2, 3, 3, 6, 0, 3, 4, 3, 4, 3, 5, 3, 2, 3, 3, 4, 6, 6, 2, 2, 0, 0, 0, 4]\n"
          ]
        }
      ],
      "source": [
        "a[0]\n",
        "loc = []\n",
        "for b in range(len(a)):\n",
        "  loc.append(np.argmax(a[b]))\n",
        "print(loc)"
      ]
    },
    {
      "cell_type": "markdown",
      "metadata": {
        "id": "kcs8TIv0UN7i"
      },
      "source": [
        "Assign the True and preidct and use it to get the f1 score, accuracy score and precision score. "
      ]
    },
    {
      "cell_type": "code",
      "execution_count": null,
      "metadata": {
        "id": "Te4VO8DPWgIR",
        "colab": {
          "base_uri": "https://localhost:8080/"
        },
        "outputId": "7f089b64-460f-47ac-8b16-63afbb81d22f"
      },
      "outputs": [
        {
          "output_type": "stream",
          "name": "stdout",
          "text": [
            "0.17779077900051604\n",
            "0.17930936880837814\n",
            "0.17722395518615325\n"
          ]
        }
      ],
      "source": [
        "from sklearn.metrics import f1_score\n",
        "from sklearn.metrics import accuracy_score\n",
        "from sklearn.metrics import precision_score\n",
        "import numpy as np\n",
        "y_true = test_image_iterator.classes\n",
        "\n",
        "y_pred = loc\n",
        "\n",
        "print(f1_score(y_true, y_pred, average='weighted'))\n",
        "print(accuracy_score(y_true, y_pred, normalize=True))\n",
        "print(precision_score(y_true, y_pred, average = \"weighted\"))"
      ]
    },
    {
      "cell_type": "markdown",
      "metadata": {
        "id": "BJ-ksnytUYzu"
      },
      "source": [
        "Print a random image to show that the model can predict the emotion. "
      ]
    },
    {
      "cell_type": "code",
      "execution_count": null,
      "metadata": {
        "id": "qEI5iscRY11l",
        "colab": {
          "base_uri": "https://localhost:8080/"
        },
        "outputId": "00244d5b-6381-409c-f6ec-f9a526e6b943"
      },
      "outputs": [
        {
          "output_type": "execute_result",
          "data": {
            "text/plain": [
              "array([0.32144868, 0.3916912 , 0.3463471 , 0.95882714, 0.4883205 ,\n",
              "       0.3721755 , 0.19336438], dtype=float32)"
            ]
          },
          "metadata": {},
          "execution_count": 40
        }
      ],
      "source": [
        "import matplotlib.pyplot as plt\n",
        "a[100]\n",
        "#plt.imshow(b[100])\n"
      ]
    },
    {
      "cell_type": "markdown",
      "source": [
        "Plot the training loss over time. "
      ],
      "metadata": {
        "id": "WmnqyRMaqinH"
      }
    },
    {
      "cell_type": "code",
      "execution_count": null,
      "metadata": {
        "id": "Vztp0_H5J7EN",
        "colab": {
          "base_uri": "https://localhost:8080/",
          "height": 294
        },
        "outputId": "0d9f91d4-c2e0-42c6-f454-3fac83ff5c8c"
      },
      "outputs": [
        {
          "output_type": "display_data",
          "data": {
            "text/plain": [
              "<Figure size 432x288 with 1 Axes>"
            ],
            "image/png": "[encoded data removed]"
          },
          "metadata": {
            "needs_background": "light"
          }
        }
      ],
      "source": [
        "\n",
        "plt.plot(history.history['loss'])\n",
        "#plt.plot(history.history['val_loss'])\n",
        "plt.title('model loss')\n",
        "plt.xlabel('Epoch')\n",
        "plt.ylabel('Accuracy')\n",
        "plt.legend(['loss'])\n",
        "plt.show()"
      ]
    },
    {
      "cell_type": "markdown",
      "source": [
        "Plot the training accuracy over time using Matplotlib."
      ],
      "metadata": {
        "id": "lMAWDc_7qhCS"
      }
    },
    {
      "cell_type": "code",
      "execution_count": null,
      "metadata": {
        "id": "XwMhBJAZL-OX"
      },
      "outputs": [],
      "source": [
        "plt.plot(history.history['accuracy'],'r')\n",
        "plt.title('Model Accuracy')\n",
        "plt.xlabel('Epoch')\n",
        "plt.ylabel('Accuracy')\n",
        "plt.legend(['Accuracy'])\n",
        "plt.show()"
      ]
    }
  ],
  "metadata": {
    "colab": {
      "collapsed_sections": [],
      "name": "colab.ipynb",
      "provenance": []
    },
    "kernelspec": {
      "display_name": "Python 3",
      "name": "python3"
    },
    "language_info": {
      "name": "python"
    }
  },
  "nbformat": 4,
  "nbformat_minor": 0
}